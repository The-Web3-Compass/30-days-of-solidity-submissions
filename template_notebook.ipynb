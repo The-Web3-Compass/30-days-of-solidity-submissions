{
  "cells": [
    {
      "cell_type": "markdown",
      "metadata": {
        "id": "I_GbewZypf9y"
      },
      "source": [
        "## Setup"
      ]
    },
    {
      "cell_type": "markdown",
      "metadata": {
        "id": "bpi5nkUtpf90"
      },
      "source": [
        "[![Lab Documentation and Solutions](https://img.shields.io/badge/Setup%20Instructions-darkgreen)](https://mongodb-developer.github.io/security-basics-lab/docs/setup)"
      ]
    },
    {
      "cell_type": "markdown",
      "metadata": {
        "id": "oTSbRXl1pf90"
      },
      "source": [
        "### 1. Install the Atlas CLI in the notebook environment"
      ]
    },
    {
      "cell_type": "code",
      "execution_count": 1,
      "metadata": {
        "id": "dD9pZqhopf90",
        "outputId": "973b7252-22b0-402a-b328-061c7a0426ed",
        "colab": {
          "base_uri": "https://localhost:8080/"
        }
      },
      "outputs": [
        {
          "output_type": "stream",
          "name": "stdout",
          "text": [
            "--2025-10-07 07:50:52--  https://fastdl.mongodb.org/mongocli/mongodb-atlas-cli_1.46.3_linux_x86_64.deb\n",
            "Resolving fastdl.mongodb.org (fastdl.mongodb.org)... 13.33.183.52, 13.33.183.62, 13.33.183.71, ...\n",
            "Connecting to fastdl.mongodb.org (fastdl.mongodb.org)|13.33.183.52|:443... connected.\n",
            "HTTP request sent, awaiting response... 200 OK\n",
            "Length: 15677562 (15M) [application/x-gzip]\n",
            "Saving to: ‘mongodb-atlas-cli_1.46.3_linux_x86_64.deb’\n",
            "\n",
            "mongodb-atlas-cli_1 100%[===================>]  14.95M  77.5MB/s    in 0.2s    \n",
            "\n",
            "2025-10-07 07:50:52 (77.5 MB/s) - ‘mongodb-atlas-cli_1.46.3_linux_x86_64.deb’ saved [15677562/15677562]\n",
            "\n",
            "Selecting previously unselected package mongodb-atlas-cli.\n",
            "(Reading database ... 126675 files and directories currently installed.)\n",
            "Preparing to unpack mongodb-atlas-cli_1.46.3_linux_x86_64.deb ...\n",
            "Unpacking mongodb-atlas-cli (1.46.3) ...\n",
            "Setting up mongodb-atlas-cli (1.46.3) ...\n",
            "atlascli version: 1.46.3\n",
            "git version: 6975ed91e49a4d16c5b6bd845cb81dbdb9d8a828\n",
            "Go version: go1.24.6\n",
            "   os: linux\n",
            "   arch: amd64\n",
            "   compiler: gc\n",
            "Updated property 'skip_update_check'\n"
          ]
        }
      ],
      "source": [
        "# Install the Atlas CLI\n",
        "\n",
        "!wget https://fastdl.mongodb.org/mongocli/mongodb-atlas-cli_1.46.3_linux_x86_64.deb\n",
        "!sudo dpkg -i mongodb-atlas-cli_1.46.3_linux_x86_64.deb\n",
        "\n",
        "!atlas --version\n",
        "\n",
        "# silence warnings about updates\n",
        "!atlas config set skip_update_check true"
      ]
    },
    {
      "cell_type": "markdown",
      "metadata": {
        "id": "J1GH1Vydpf91"
      },
      "source": [
        "### 2. Authenticate the CLI against your Atlas organization"
      ]
    },
    {
      "cell_type": "markdown",
      "metadata": {
        "id": "JtZV9vzupf91"
      },
      "source": [
        "`atlas auth login` typically enters interactive mode.\n",
        "We are piping a new line character so that it selects a default organization for you."
      ]
    },
    {
      "cell_type": "code",
      "execution_count": 2,
      "metadata": {
        "id": "S0zxSFr5pf91",
        "outputId": "809087ea-051e-4bce-dd5c-fc4bac378611",
        "colab": {
          "base_uri": "https://localhost:8080/"
        }
      },
      "outputs": [
        {
          "output_type": "stream",
          "name": "stdout",
          "text": [
            "Error: not logged in with an Atlas account or API key\n",
            "\n",
            "To verify your account, copy your one-time verification code:\n",
            "4FT8-HKKP\n",
            "\n",
            "Paste the code in the browser when prompted to activate your Atlas CLI. Your code will expire after 3 minutes.\n",
            "\n",
            "To continue, go to https://account.mongodb.com/account/connect\n",
            "Successfully logged in as luna.wei.lu@gmail.com.\n",
            "\u001b[K"
          ]
        }
      ],
      "source": [
        "# log out just in case we need to troubleshoot the login process / want to switch Atlas accounts\n",
        "!atlas auth logout --force\n",
        "\n",
        "# Authenticate with Atlas CLI\n",
        "!echo -e \"\\n\" | atlas auth login --noBrowser"
      ]
    },
    {
      "cell_type": "markdown",
      "metadata": {
        "id": "Q8Xm7vdXpf92"
      },
      "source": [
        "#### 2.1 Get the Organization ID (run this for accounts with just one organization)"
      ]
    },
    {
      "cell_type": "code",
      "execution_count": 3,
      "metadata": {
        "id": "dR6-unpSpf92",
        "outputId": "c011ea79-f799-4960-aa15-85b82f97772b",
        "colab": {
          "base_uri": "https://localhost:8080/"
        }
      },
      "outputs": [
        {
          "output_type": "stream",
          "name": "stdout",
          "text": [
            "ID                         NAME\n",
            "68e4c21c6925af5299fe825f   Wei's Org - 2025-10-07\n"
          ]
        }
      ],
      "source": [
        "# show all organizations in the account\n",
        "!atlas organization list"
      ]
    },
    {
      "cell_type": "markdown",
      "metadata": {
        "id": "92Twwabnpf92"
      },
      "source": [
        "### 3. Create a new project called \\\"MySecureProj\\\""
      ]
    },
    {
      "cell_type": "markdown",
      "metadata": {
        "id": "sZBrq4Xspf92"
      },
      "source": [
        "Replace `<ORGANIZATION_ID>` with the Organization ID from the previous step."
      ]
    },
    {
      "cell_type": "code",
      "execution_count": 4,
      "metadata": {
        "id": "sIcShihSpf93",
        "outputId": "7361ea0e-788a-45b1-dc20-6ca40253f1bb",
        "colab": {
          "base_uri": "https://localhost:8080/"
        }
      },
      "outputs": [
        {
          "output_type": "stream",
          "name": "stdout",
          "text": [
            "Project '68e4c7232db3ca1036480a8f' created.\n"
          ]
        }
      ],
      "source": [
        "# Retain the quotes (\"\") when pasting the Organization ID\n",
        "org_id = \"68e4c21c6925af5299fe825f\"\n",
        "!atlas projects create MySecureProj --orgId {org_id}"
      ]
    },
    {
      "cell_type": "markdown",
      "metadata": {
        "id": "Cng3Ap21pf93"
      },
      "source": [
        "### 4. Create your challenge cluster"
      ]
    },
    {
      "cell_type": "markdown",
      "metadata": {
        "id": "kdp5TnB8pf93"
      },
      "source": [
        "Replace `<PROJECT_ID>` with the ID of the \"MySecureProj\" organization from the previous step."
      ]
    },
    {
      "cell_type": "code",
      "execution_count": 5,
      "metadata": {
        "id": "TrlSZR-ypf93",
        "outputId": "5089fa6b-2279-4888-c634-2c9086c6b8ca",
        "colab": {
          "base_uri": "https://localhost:8080/"
        }
      },
      "outputs": [
        {
          "output_type": "stream",
          "name": "stdout",
          "text": [
            "Cluster 'MyNewCluster' is being created.\n"
          ]
        }
      ],
      "source": [
        "# Retain the quotes (\"\") when pasting the Project ID\n",
        "project_id = \"68e4c7232db3ca1036480a8f\"\n",
        "# You may select a region closer to you instead of \"US_EAST_1\"\n",
        "!atlas clusters create MyNewCluster --provider AWS --region US_EAST_1 --tier M0 --projectId {project_id}"
      ]
    },
    {
      "cell_type": "markdown",
      "metadata": {
        "id": "C5pTou1Apf93"
      },
      "source": [
        "## Network Challenge"
      ]
    },
    {
      "cell_type": "markdown",
      "metadata": {
        "id": "hGjMy5Trpf93"
      },
      "source": [
        "[![Lab Documentation and Solutions](https://img.shields.io/badge/Network%20Challenge-darkgreen)](https://mongodb-developer.github.io/security-basics-lab/docs/challenge/network)"
      ]
    },
    {
      "cell_type": "markdown",
      "metadata": {
        "id": "KzptDCeZpf93"
      },
      "source": [
        "### 5. Allow your current IP address to access the Atlas project temporarily\n",
        "\n",
        "Refer to the documentation: [atlas accessLists](https://www.mongodb.com/docs/atlas/cli/current/command/atlas-accessLists-create/)."
      ]
    },
    {
      "cell_type": "code",
      "execution_count": 6,
      "metadata": {
        "id": "t1eSG0vCpf93",
        "outputId": "9362ee94-fc62-4ac0-c6ae-75b92f6533b4",
        "colab": {
          "base_uri": "https://localhost:8080/"
        }
      },
      "outputs": [
        {
          "output_type": "stream",
          "name": "stdout",
          "text": [
            "Created a new IP access list.\n"
          ]
        }
      ],
      "source": [
        "from datetime import datetime, timedelta\n",
        "from zoneinfo import ZoneInfo  # Python 3.9+\n",
        "\n",
        "# Calculate the date and time 24 hours from now\n",
        "delete_after = (datetime.now(ZoneInfo('UTC')) + timedelta(hours=24)).isoformat()\n",
        "\n",
        "!atlas accessLists create --currentIp --projectId {project_id} --deleteAfter {delete_after}\n",
        "# delete after a day"
      ]
    },
    {
      "cell_type": "markdown",
      "metadata": {
        "id": "GJdy-ey_pf93"
      },
      "source": [
        "### 6. Check that the IP address was added succesfully"
      ]
    },
    {
      "cell_type": "code",
      "execution_count": 7,
      "metadata": {
        "id": "GUYQMLoNpf93",
        "outputId": "20e21950-1d8c-4a66-b4a2-665e10cf46fa",
        "colab": {
          "base_uri": "https://localhost:8080/"
        }
      },
      "outputs": [
        {
          "output_type": "stream",
          "name": "stdout",
          "text": [
            "{\n",
            "  \"links\": [\n",
            "    {\n",
            "      \"href\": \"https://cloud.mongodb.com/api/atlas/v2/groups/68e4c7232db3ca1036480a8f/accessList?includeCount=true\\u0026pageNum=1\\u0026itemsPerPage=100\",\n",
            "      \"rel\": \"self\"\n",
            "    }\n",
            "  ],\n",
            "  \"results\": [\n",
            "    {\n",
            "      \"cidrBlock\": \"34.81.252.125/32\",\n",
            "      \"comment\": \"\",\n",
            "      \"deleteAfterDate\": \"2025-10-08T08:00:43Z\",\n",
            "      \"groupId\": \"68e4c7232db3ca1036480a8f\",\n",
            "      \"ipAddress\": \"34.81.252.125\",\n",
            "      \"links\": [\n",
            "        {\n",
            "          \"href\": \"https://cloud.mongodb.com/api/atlas/v2/groups/68e4c7232db3ca1036480a8f/accessList/34.81.252.125%2F32\",\n",
            "          \"rel\": \"self\"\n",
            "        }\n",
            "      ]\n",
            "    }\n",
            "  ],\n",
            "  \"totalCount\": 1\n",
            "}\n"
          ]
        }
      ],
      "source": [
        "!atlas accessLists list --output json --projectId {project_id}"
      ]
    },
    {
      "cell_type": "markdown",
      "metadata": {
        "id": "_NxXnyTupf93"
      },
      "source": [
        "## Authentication Challenge"
      ]
    },
    {
      "cell_type": "markdown",
      "metadata": {
        "id": "p066sgClpf93"
      },
      "source": [
        "[![Lab Documentation and Solutions](https://img.shields.io/badge/Authentication%20Challenge-darkgreen)](https://mongodb-developer.github.io/security-basics-lab/docs/challenge/authentication)"
      ]
    },
    {
      "cell_type": "markdown",
      "metadata": {
        "id": "UEbNDUH8pf93"
      },
      "source": [
        "### 7. Create a SCRAM user"
      ]
    },
    {
      "cell_type": "markdown",
      "metadata": {
        "id": "niHQG4fQpf93"
      },
      "source": [
        "Assign the `readWriteAnyDatabase` role to the user.\n",
        "Use username and password authentication.\n",
        "\n",
        "Refer to the documentation: [atlas dbusers](https://www.mongodb.com/docs/atlas/cli/current/command/atlas-dbusers-create/)."
      ]
    },
    {
      "cell_type": "code",
      "execution_count": null,
      "metadata": {
        "id": "mBVTHrpXpf94"
      },
      "outputs": [],
      "source": [
        "username = \"myUser\"\n",
        "password = \"mySecurePassword\"\n",
        "\n",
        "!atlas dbusers create <CODE_BLOCK> --projectId {project_id}"
      ]
    },
    {
      "cell_type": "markdown",
      "metadata": {
        "id": "5PX4u-Azpf94"
      },
      "source": [
        "### 8. Authenticate the SCRAM user"
      ]
    },
    {
      "cell_type": "code",
      "execution_count": null,
      "metadata": {
        "id": "GZe5Rp-apf94"
      },
      "outputs": [],
      "source": [
        "!pip install pymongo dnspython"
      ]
    },
    {
      "cell_type": "code",
      "execution_count": null,
      "metadata": {
        "id": "DK0uscwQpf94"
      },
      "outputs": [],
      "source": [
        "# retrieve connection string\n",
        "connection = !atlas clusters connectionStrings describe  MyNewCluster --projectId {project_id}\n",
        "\n",
        "# add username and password to connection string\n",
        "new_connection = connection[1].replace('mongodb+srv://', f'mongodb+srv://{username}:{password}@')\n",
        "print(new_connection)\n",
        "\n",
        "#make the connection get the list of databases\n",
        "from pymongo import MongoClient\n",
        "client = MongoClient(new_connection)\n",
        "client.list_database_names()"
      ]
    },
    {
      "cell_type": "markdown",
      "metadata": {
        "id": "1JWd7zWXpf94"
      },
      "source": [
        "### 10. Create a X509 user and certificate"
      ]
    },
    {
      "cell_type": "markdown",
      "metadata": {
        "id": "cMGmdsC3pf94"
      },
      "source": [
        "Create an **Atlas-managed** **X509** user with username: `myX509User` and role `readAnyDatabase`.\n",
        "\n",
        "Refer to the documentation: [atlas dbusers](https://www.mongodb.com/docs/atlas/cli/current/command/atlas-dbusers-create/)."
      ]
    },
    {
      "cell_type": "code",
      "execution_count": null,
      "metadata": {
        "id": "TwoGb3Xipf94"
      },
      "outputs": [],
      "source": [
        "!atlas dbusers create <CODE_BLOCK> --projectId {project_id}"
      ]
    },
    {
      "cell_type": "markdown",
      "metadata": {
        "id": "K8vvMZLUpf94"
      },
      "source": [
        "Create a new Atlas-managed X.509 certificate for the database user.\n",
        "\n",
        "Refer to the documentation: [atlas dbusers certs](https://www.mongodb.com/docs/atlas/cli/current/command/atlas-dbusers-certs-create/)."
      ]
    },
    {
      "cell_type": "code",
      "execution_count": null,
      "metadata": {
        "id": "dfyhqGZdpf94"
      },
      "outputs": [],
      "source": [
        "# Generate a certification for \"myX509user\", set monthsUntilExpiration to 1, and save it to /tmp/cert.pem\n",
        "!atlas dbusers certs create <CODE_BLOCK> --projectId {project_id} > /tmp/cert.pem\n",
        "\n",
        "#show the certificate file\n",
        "!cat /tmp/cert.pem"
      ]
    },
    {
      "cell_type": "markdown",
      "metadata": {
        "id": "bqH9dhkkpf94"
      },
      "source": [
        "### 11. Authenticate the X509 user"
      ]
    },
    {
      "cell_type": "code",
      "execution_count": null,
      "metadata": {
        "id": "vhaWc0Odpf94"
      },
      "outputs": [],
      "source": [
        "# Get connection string\n",
        "connection = !atlas clusters connectionStrings describe MyNewCluster --projectId {project_id}\n",
        "\n",
        "# Modify connection string to use X509 as authentication mechanism\n",
        "new_connection = connection[1].replace('.net', '.net?authSource=%24external&authMechanism=MONGODB-X509')\n",
        "print(new_connection)\n",
        "\n",
        "# Connect using the certificate\n",
        "from pymongo import MongoClient\n",
        "client = MongoClient(new_connection,\n",
        "                     tlsCertificateKeyFile='/tmp/cert.pem')\n",
        "\n",
        "# Access the database\n",
        "client.list_database_names()"
      ]
    },
    {
      "cell_type": "markdown",
      "metadata": {
        "id": "KPXNtO0-pf94"
      },
      "source": [
        "## RBAC Challenge"
      ]
    },
    {
      "cell_type": "markdown",
      "metadata": {
        "id": "PmsiVo4upf94"
      },
      "source": [
        "[![Lab Documentation and Solutions](https://img.shields.io/badge/RBAC%20Challenge%20Instructions-darkgreen)](https://mongodb-developer.github.io/security-basics-lab/docs/challenge/rbac)"
      ]
    },
    {
      "cell_type": "markdown",
      "metadata": {
        "id": "5Nq8vkcxpf94"
      },
      "source": [
        "### 12. Create a user with role-based access\n"
      ]
    },
    {
      "cell_type": "markdown",
      "metadata": {
        "id": "uoKgnqYCpf99"
      },
      "source": [
        "Create a new user with the role `readWriteAnyDatabase` and the username and password below.\n",
        "\n",
        "The user access should be scoped to the `myNewCluster` cluster. Use the `--scope` option.\n",
        "\n",
        "Refer to the documentation: https://www.mongodb.com/docs/atlas/cli/current/command/atlas-dbusers-create/."
      ]
    },
    {
      "cell_type": "code",
      "execution_count": null,
      "metadata": {
        "id": "rTbwI76vpf99"
      },
      "outputs": [],
      "source": [
        "newClusterAdminUser = 'myNewClusterAdmin'\n",
        "newClusterAdminPass = 'myNewClusterAdminPass'\n",
        "!atlas dbusers create <CODE_BLOCK> --scope <CLUSTER_NAME> --projectId {project_id}"
      ]
    },
    {
      "cell_type": "markdown",
      "metadata": {
        "id": "x2PQf_6Spf99"
      },
      "source": [
        "### 13. Create user with read-only access to the 'salesDB' database"
      ]
    },
    {
      "cell_type": "markdown",
      "metadata": {
        "id": "DH9Y_-1Xpf9-"
      },
      "source": [
        "Create a role `salesRead` with read-only access to the `salesDB` database.\n",
        "\n",
        "Refer to the documentation: [atlas customDbRoles](https://www.mongodb.com/docs/atlas/cli/current/command/atlas-customDbRoles-create)."
      ]
    },
    {
      "cell_type": "code",
      "execution_count": null,
      "metadata": {
        "id": "khzGTrPapf9-"
      },
      "outputs": [],
      "source": [
        "!atlas customDbRoles create <CODE_BLOCK>"
      ]
    },
    {
      "cell_type": "markdown",
      "metadata": {
        "id": "mcgU_GSWpf9-"
      },
      "source": [
        "Create a new user with the username and password below, which has the custom role `salesReadRole` you just created.\n",
        "\n",
        "Refer to the documentation: [atlas dbusers](https://www.mongodb.com/docs/atlas/cli/current/command/atlas-dbusers-create/)."
      ]
    },
    {
      "cell_type": "code",
      "execution_count": null,
      "metadata": {
        "id": "nTcBrrrspf9-"
      },
      "outputs": [],
      "source": [
        "# Create a user \"salesReadUser\" with password \"salesReadPass\" which has the \"salesRead\" role\n",
        "salesReadUser = 'salesReadUser'\n",
        "salesReadPass = 'salesReadPass'\n",
        "!atlas dbusers create <CODE_BLOCK> --projectId {project_id}"
      ]
    },
    {
      "cell_type": "markdown",
      "metadata": {
        "id": "4ocQ45vBpf9-"
      },
      "source": [
        "### 14. Test that 'salesReadUser' can't insert data into the 'salesDB' database"
      ]
    },
    {
      "cell_type": "code",
      "execution_count": null,
      "metadata": {
        "id": "fYQtOky5pf9-"
      },
      "outputs": [],
      "source": [
        "# Get connection string\n",
        "connection = !atlas clusters connectionStrings describe MyNewCluster --projectId {project_id}\n",
        "\n",
        "# Replace connection string with username and password\n",
        "new_connection = connection[1].replace('mongodb+srv://', f'mongodb+srv://{salesReadUser}:{salesReadPass}@')\n",
        "\n",
        "# Attempt to insert data\n",
        "client = MongoClient(new_connection)\n",
        "db = client['salesDB']\n",
        "collection = db['mycollection']\n",
        "try:\n",
        "  data = {'name': 'John Doe', 'age': 30}\n",
        "  result = collection.insert_one(data)\n",
        "  print(f\"Inserted document with ID: {result.inserted_id}\")\n",
        "except Exception as e:\n",
        "  print(f\"Error inserting data: {e}\")"
      ]
    },
    {
      "cell_type": "markdown",
      "metadata": {
        "id": "ML4R-LgNpf9-"
      },
      "source": [
        "### 15. Test that 'myNewClusterAdmin' can insert data into the 'salesDB' database"
      ]
    },
    {
      "cell_type": "code",
      "execution_count": null,
      "metadata": {
        "id": "oLpj74W8pf9-"
      },
      "outputs": [],
      "source": [
        "# Get connection string\n",
        "connection = !atlas clusters connectionStrings describe MyNewCluster --projectId {project_id}\n",
        "\n",
        "# Replace\n",
        "new_connection = connection[1].replace('mongodb+srv://', f'mongodb+srv://{username}:{password}@')\n",
        "client = MongoClient(new_connection)\n",
        "db = client['salesDB']\n",
        "collection = db['mycollection']\n",
        "try:\n",
        "  data = {'name': 'John Doe', 'age': 30}\n",
        "  result = collection.insert_one(data)\n",
        "  print(f\"Inserted document with ID: {result.inserted_id}\")\n",
        "except Exception as e:\n",
        "  print(f\"Error inserting data: {e}\")"
      ]
    },
    {
      "cell_type": "markdown",
      "metadata": {
        "id": "Dn7G9zs8pf9-"
      },
      "source": [
        "## Encryption Challenge"
      ]
    },
    {
      "cell_type": "markdown",
      "metadata": {
        "id": "AOZhADBPpf9-"
      },
      "source": [
        "[![Lab Documentation and Solutions](https://img.shields.io/badge/Queryable%20Encryption%20Challenge-darkgreen)](https://mongodb-developer.github.io/security-basics-lab/docs/challenge/queryable-encryption)"
      ]
    },
    {
      "cell_type": "markdown",
      "metadata": {
        "id": "QSM2iEkwpf9-"
      },
      "source": [
        "### 16. Install the required packages"
      ]
    },
    {
      "cell_type": "code",
      "execution_count": null,
      "metadata": {
        "id": "Y-A6GCHhpf9-"
      },
      "outputs": [],
      "source": [
        "!pip install pymongo[encryption]\n",
        "!pip install pymongo\n",
        "!pip install requests"
      ]
    },
    {
      "cell_type": "markdown",
      "metadata": {
        "id": "ac8qm93upf9-"
      },
      "source": [
        "### 17. Set up the crypt_shared library"
      ]
    },
    {
      "cell_type": "code",
      "execution_count": null,
      "metadata": {
        "id": "_ZYdteF3pf9-"
      },
      "outputs": [],
      "source": [
        "import os\n",
        "from pymongo import MongoClient\n",
        "from pymongo.encryption import Algorithm, ClientEncryption, QueryType\n",
        "from pymongo.encryption_options import AutoEncryptionOpts\n",
        "from bson.codec_options import CodecOptions\n",
        "from bson import json_util\n",
        "import json\n",
        "import requests\n",
        "import platform\n",
        "import tempfile\n",
        "def setup_crypt_shared():\n",
        "    system = platform.system().lower()\n",
        "    if system == \"linux\":\n",
        "        url = \"https://downloads.mongodb.com/linux/mongo_crypt_shared_v1-linux-x86_64-enterprise-ubuntu2004-6.0.6.tgz\"\n",
        "        filename = \"mongo_crypt_shared_v1-linux-x86_64-enterprise-ubuntu2004-6.0.6.tgz\"\n",
        "    elif system == \"darwin\":\n",
        "        url = \"https://downloads.mongodb.com/osx/mongo_crypt_shared_v1-macos-x86_64-enterprise-6.0.6.tgz\"\n",
        "        filename = \"mongo_crypt_shared_v1-macos-x86_64-enterprise-6.0.6.tgz\"\n",
        "    elif system == \"windows\":\n",
        "        url = \"https://downloads.mongodb.com/windows/mongo_crypt_shared_v1-windows-x86_64-enterprise-6.0.6.zip\"\n",
        "        filename = \"mongo_crypt_shared_v1-windows-x86_64-enterprise-6.0.6.zip\"\n",
        "    else:\n",
        "        raise OSError(\"Unsupported operating system\")\n",
        "    response = requests.get(url)\n",
        "    response.raise_for_status()\n",
        "    with tempfile.NamedTemporaryFile(delete=False, suffix=\".tgz\" if system != \"windows\" else \".zip\") as tmp_file:\n",
        "        tmp_file.write(response.content)\n",
        "        tmp_file_path = tmp_file.name\n",
        "    extract_dir = tempfile.mkdtemp()\n",
        "    if system != \"windows\":\n",
        "        os.system(f\"tar -xzf {tmp_file_path} -C {extract_dir}\")\n",
        "        lib_path = os.path.join(extract_dir, \"lib\", \"mongo_crypt_v1.so\")\n",
        "    else:\n",
        "        os.system(f\"powershell Expand-Archive -Path {tmp_file_path} -DestinationPath {extract_dir}\")\n",
        "        lib_path = os.path.join(extract_dir, \"bin\", \"mongo_crypt_v1.dll\")\n",
        "    return lib_path\n",
        "crypt_shared_lib_path = setup_crypt_shared()\n",
        "print(f\"Crypt shared library path: {crypt_shared_lib_path}\")"
      ]
    },
    {
      "cell_type": "markdown",
      "metadata": {
        "id": "Cx4ZCofapf-A"
      },
      "source": [
        "### 18. Connect to your Atlas cluster"
      ]
    },
    {
      "cell_type": "code",
      "execution_count": null,
      "metadata": {
        "id": "IKTNA6Bfpf-A"
      },
      "outputs": [],
      "source": [
        "connection = !atlas clusters connectionStrings describe  MyNewCluster --projectId {project_id}\n",
        "new_connection = connection[1].replace('mongodb+srv://', f'mongodb+srv://{username}:{password}@')\n",
        "print(new_connection)\n",
        "from pymongo import MongoClient\n",
        "client = MongoClient(new_connection)"
      ]
    },
    {
      "cell_type": "markdown",
      "metadata": {
        "id": "0G5Ll_Cdpf-A"
      },
      "source": [
        "### 19. Set up an encrypted client with a local KMS provider"
      ]
    },
    {
      "cell_type": "code",
      "execution_count": null,
      "metadata": {
        "id": "BK5hBFkWpf-A"
      },
      "outputs": [],
      "source": [
        "# generate a random 96 byte key\n",
        "local_master_key = os.urandom(96)\n",
        "\n",
        "# configure encryption options\n",
        "kms_providers = {\"local\": {\"key\": local_master_key}}\n",
        "key_vault_namespace = \"encryption.__keyVault\"\n",
        "key_vault_database_name = \"encryption\"\n",
        "key_vault_collection_name = \"__keyVault\"\n",
        "key_vault_namespace = f\"{key_vault_database_name}.{key_vault_collection_name}\"\n",
        "\n",
        "auto_encryption_options = AutoEncryptionOpts(\n",
        "    kms_providers,\n",
        "    key_vault_namespace,\n",
        "    crypt_shared_lib_path=crypt_shared_lib_path\n",
        ")\n",
        "\n",
        "# set up client and encryption\n",
        "encrypted_client = MongoClient(\n",
        "    new_connection, auto_encryption_opts=auto_encryption_options)\n",
        "\n",
        "\n",
        "client_encryption = ClientEncryption(\n",
        "    kms_providers=kms_providers,\n",
        "    key_vault_namespace=key_vault_namespace,\n",
        "    key_vault_client=encrypted_client,\n",
        "    codec_options=CodecOptions()\n",
        ")"
      ]
    },
    {
      "cell_type": "markdown",
      "metadata": {
        "id": "2mHKsyEPpf-A"
      },
      "source": [
        "### 20. Consider the following sample 'patient' document"
      ]
    },
    {
      "cell_type": "code",
      "execution_count": null,
      "metadata": {
        "id": "GxiLl1rqpf-A"
      },
      "outputs": [],
      "source": [
        "patient_document = {\n",
        "    \"patientName\": \"Jon Doe\",\n",
        "    \"patientId\": 12345678,\n",
        "    \"patientRecord\": {\n",
        "        \"ssn\": \"987-65-4320\",\n",
        "        \"billing\": {\n",
        "            \"type\": \"Visa\",\n",
        "            \"number\": \"4111111111111111\",\n",
        "        },\n",
        "    },\n",
        "}"
      ]
    },
    {
      "cell_type": "markdown",
      "metadata": {
        "id": "pHl0BShkpf-A"
      },
      "source": [
        "### 21. Create an encrypted collection based on the following requirements\n",
        "\n",
        "- 'patientRecord.ssn' and 'patientRecord.billing' must be encrypted\n",
        "- patients will be queried by 'patientRecord.ssn'"
      ]
    },
    {
      "cell_type": "code",
      "execution_count": null,
      "metadata": {
        "id": "XoZHZJv4pf-A"
      },
      "outputs": [],
      "source": [
        "# Create encrypted fields map, remeber that type is \"string\" and not \"String\" and \"object\" and not \"Object\"\n",
        "encrypted_fields_map = {\n",
        "    'fields': [\n",
        "        {\n",
        "            'path': <SSN_FIELD_CODE_BLOCK>,\n",
        "            'bsonType': 'string',\n",
        "            'queries': [{'queryType': 'equality'}]\n",
        "        },\n",
        "        {\n",
        "            'path': <BILLING_FIELD_CODE_BLOCK>,\n",
        "            'bsonType': 'object'\n",
        "        }\n",
        "    ]\n",
        "}\n",
        "\n",
        "encrypted_database_name = 'medicalRecords'\n",
        "encrypted_collection_name = 'patients'\n",
        "kms_provider_name = 'local'\n",
        "client_encryption.create_encrypted_collection(\n",
        "    encrypted_client[encrypted_database_name],\n",
        "    encrypted_collection_name,\n",
        "    encrypted_fields_map,\n",
        "    kms_provider_name,\n",
        "    {},\n",
        ")"
      ]
    },
    {
      "cell_type": "markdown",
      "metadata": {
        "id": "PY43zM4Epf-A"
      },
      "source": [
        "### 22. Insert the sample 'patient' document"
      ]
    },
    {
      "cell_type": "markdown",
      "metadata": {
        "id": "PHg2KM2rpf-A"
      },
      "source": [
        "Refer to the documentation: [collection.insert_one()](https://pymongo.readthedocs.io/en/stable/api/pymongo/collection.html#pymongo.collection.Collection.insert_one)."
      ]
    },
    {
      "cell_type": "code",
      "execution_count": null,
      "metadata": {
        "id": "XEYARwpIpf-A"
      },
      "outputs": [],
      "source": [
        "encrypted_collection = encrypted_client[encrypted_database_name][encrypted_collection_name]\n",
        "result = <CODE_BLOCK>\n",
        "print(f\"Inserted document ID: {result.inserted_id}\")"
      ]
    },
    {
      "cell_type": "markdown",
      "metadata": {
        "id": "ssK1Q3_tpf-A"
      },
      "source": [
        "### 22. Find the patient by their SSN"
      ]
    },
    {
      "cell_type": "markdown",
      "metadata": {
        "id": "wbeRqXbGpf-A"
      },
      "source": [
        "Refer to the documentation: [collection.find_one()](https://pymongo.readthedocs.io/en/stable/api/pymongo/collection.html#pymongo.collection.Collection.find_one)."
      ]
    },
    {
      "cell_type": "code",
      "execution_count": null,
      "metadata": {
        "id": "tc4kIV6Apf-A"
      },
      "outputs": [],
      "source": [
        "find_result = <CODE_BLOCK>\n",
        "print(find_result)"
      ]
    },
    {
      "cell_type": "markdown",
      "metadata": {
        "id": "mtax4kcTpf-B"
      },
      "source": [
        "### 23. Make the same query the collection without encryption/decryption"
      ]
    },
    {
      "cell_type": "code",
      "execution_count": null,
      "metadata": {
        "id": "x94Z7-pWpf-B"
      },
      "outputs": [],
      "source": [
        "reg_mongoclient = MongoClient(new_connection)\n",
        "reg_collection = reg_mongoclient[encrypted_database_name][encrypted_collection_name]\n",
        "find_result = reg_collection.find_one({\"patientRecord.ssn\": \"987-65-4320\"})\n",
        "print(find_result)"
      ]
    },
    {
      "cell_type": "markdown",
      "metadata": {
        "id": "lWK8Joivpf-B"
      },
      "source": [
        "### 24. Read all documents in the collection without encryption/decryption"
      ]
    },
    {
      "cell_type": "code",
      "execution_count": null,
      "metadata": {
        "id": "x4VqhjLzpf-B"
      },
      "outputs": [],
      "source": [
        "all_docs = reg_mongoclient[encrypted_database_name][encrypted_collection_name].find()\n",
        "print(\"\\nAll documents in the collection:\")\n",
        "for doc in all_docs:\n",
        "    print(doc)"
      ]
    }
  ],
  "metadata": {
    "kernelspec": {
      "display_name": "Python 3",
      "language": "python",
      "name": "python3"
    },
    "language_info": {
      "codemirror_mode": {
        "name": "ipython",
        "version": 3
      },
      "file_extension": ".py",
      "mimetype": "text/x-python",
      "name": "python",
      "nbconvert_exporter": "python",
      "pygments_lexer": "ipython3",
      "version": "3.12.1"
    },
    "colab": {
      "provenance": []
    }
  },
  "nbformat": 4,
  "nbformat_minor": 0
}